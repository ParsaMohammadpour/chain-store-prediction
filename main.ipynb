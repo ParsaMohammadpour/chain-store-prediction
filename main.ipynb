{
 "cells": [
  {
   "cell_type": "markdown",
   "id": "7745c3ec",
   "metadata": {},
   "source": [
    "# Importing libraries we are going to use"
   ]
  },
  {
   "cell_type": "code",
   "execution_count": 246,
   "id": "f6d305e5",
   "metadata": {},
   "outputs": [],
   "source": [
    "import pandas as pd\n",
    "import numpy as np\n",
    "import matplotlib.pyplot as plt\n",
    "from sklearn.metrics import mean_squared_error, r2_score\n",
    "from sklearn import preprocessing, svm\n",
    "from sklearn.model_selection import train_test_split\n",
    "from sklearn.linear_model import LinearRegression\n",
    "import datetime"
   ]
  },
  {
   "cell_type": "markdown",
   "id": "010ba2e3",
   "metadata": {},
   "source": [
    "# Loading dataframes "
   ]
  },
  {
   "cell_type": "code",
   "execution_count": 247,
   "id": "0f0f5a68",
   "metadata": {},
   "outputs": [
    {
     "name": "stdout",
     "output_type": "stream",
     "text": [
      "original dataframe:\n",
      "         date  date_block_num  shop_id  item_id  item_price  item_cnt_day\n",
      "0  02.01.2013               0       59    22154      999.00           1.0\n",
      "1  03.01.2013               0       25     2552      899.00           1.0\n",
      "2  05.01.2013               0       25     2552      899.00          -1.0\n",
      "3  06.01.2013               0       25     2554     1709.05           1.0\n",
      "4  15.01.2013               0       25     2555     1099.00           1.0\n",
      "shops dataframe:\n",
      "                        shop_name  shop_id\n",
      "0   !Якутск Орджоникидзе, 56 фран        0\n",
      "1   !Якутск ТЦ \"Центральный\" фран        1\n",
      "2                Адыгея ТЦ \"Мега\"        2\n",
      "3  Балашиха ТРК \"Октябрь-Киномир\"        3\n",
      "4        Волжский ТЦ \"Волга Молл\"        4\n",
      "item categories dataframe:\n",
      "        item_category_name  item_category_id\n",
      "0  PC - Гарнитуры/Наушники                 0\n",
      "1         Аксессуары - PS2                 1\n",
      "2         Аксессуары - PS3                 2\n",
      "3         Аксессуары - PS4                 3\n",
      "4         Аксессуары - PSP                 4\n",
      "items dataframe:\n",
      "                                                              item_name  item_id  item_category_id\n",
      "0                             ! ВО ВЛАСТИ НАВАЖДЕНИЯ (ПЛАСТ.)         D        0                40\n",
      "1  !ABBYY FineReader 12 Professional Edition Full [PC, Цифровая версия]        1                76\n",
      "2                         ***В ЛУЧАХ СЛАВЫ   (UNV)                    D        2                40\n",
      "3                       ***ГОЛУБАЯ ВОЛНА  (Univ)                      D        3                40\n",
      "4                           ***КОРОБКА (СТЕКЛО)                       D        4                40\n"
     ]
    }
   ],
   "source": [
    "print('original dataframe:')\n",
    "df = pd.read_csv('sales_train.csv')\n",
    "print(df.head())\n",
    "print('shops dataframe:')\n",
    "shops = pd.read_csv('shops.csv')\n",
    "print(shops.head())\n",
    "print('item categories dataframe:')\n",
    "categories = pd.read_csv('item_categories.csv')\n",
    "print(categories.head())\n",
    "print('items dataframe:')\n",
    "items = pd.read_csv('items.csv')\n",
    "print(items.head().to_string())"
   ]
  },
  {
   "cell_type": "markdown",
   "id": "41120a62",
   "metadata": {},
   "source": [
    "# Merging all dataframes into one"
   ]
  },
  {
   "cell_type": "code",
   "execution_count": 248,
   "id": "cbafe2f5",
   "metadata": {},
   "outputs": [
    {
     "name": "stdout",
     "output_type": "stream",
     "text": [
      "         date  date_block_num  shop_id  item_id  item_price  item_cnt_day  \\\n",
      "0  02.01.2013               0       59    22154       999.0           1.0   \n",
      "1  02.01.2013               0       25    22154       999.0           1.0   \n",
      "2  03.01.2013               0       25    22154       999.0           1.0   \n",
      "3  20.01.2013               0       25    22154       999.0           1.0   \n",
      "4  23.01.2013               0       25    22154       999.0           1.0   \n",
      "\n",
      "                shop_name          item_name  item_category_id  \\\n",
      "0  Ярославль ТЦ \"Альтаир\"  ЯВЛЕНИЕ 2012 (BD)                37   \n",
      "1     Москва ТРК \"Атриум\"  ЯВЛЕНИЕ 2012 (BD)                37   \n",
      "2     Москва ТРК \"Атриум\"  ЯВЛЕНИЕ 2012 (BD)                37   \n",
      "3     Москва ТРК \"Атриум\"  ЯВЛЕНИЕ 2012 (BD)                37   \n",
      "4     Москва ТРК \"Атриум\"  ЯВЛЕНИЕ 2012 (BD)                37   \n",
      "\n",
      "  item_category_name  \n",
      "0     Кино - Blu-Ray  \n",
      "1     Кино - Blu-Ray  \n",
      "2     Кино - Blu-Ray  \n",
      "3     Кино - Blu-Ray  \n",
      "4     Кино - Blu-Ray  \n"
     ]
    }
   ],
   "source": [
    "df = pd.merge(df, shops, on='shop_id')\n",
    "df = pd.merge(df, items, on='item_id')\n",
    "df = pd.merge(df, categories, on='item_category_id')\n",
    "print(df.head())"
   ]
  },
  {
   "cell_type": "markdown",
   "id": "97de0541",
   "metadata": {},
   "source": [
    "# Correcting columns with negative value and making month column"
   ]
  },
  {
   "cell_type": "code",
   "execution_count": 249,
   "id": "5aaa6cc6",
   "metadata": {
    "scrolled": true
   },
   "outputs": [
    {
     "name": "stdout",
     "output_type": "stream",
     "text": [
      "         date  date_block_num  shop_id  item_id  item_price  item_cnt_day  \\\n",
      "0  02.01.2013               0       59    22154       999.0           1.0   \n",
      "1  02.01.2013               0       25    22154       999.0           1.0   \n",
      "2  03.01.2013               0       25    22154       999.0           1.0   \n",
      "3  20.01.2013               0       25    22154       999.0           1.0   \n",
      "4  23.01.2013               0       25    22154       999.0           1.0   \n",
      "\n",
      "                shop_name          item_name  item_category_id  \\\n",
      "0  Ярославль ТЦ \"Альтаир\"  ЯВЛЕНИЕ 2012 (BD)                37   \n",
      "1     Москва ТРК \"Атриум\"  ЯВЛЕНИЕ 2012 (BD)                37   \n",
      "2     Москва ТРК \"Атриум\"  ЯВЛЕНИЕ 2012 (BD)                37   \n",
      "3     Москва ТРК \"Атриум\"  ЯВЛЕНИЕ 2012 (BD)                37   \n",
      "4     Москва ТРК \"Атриум\"  ЯВЛЕНИЕ 2012 (BD)                37   \n",
      "\n",
      "  item_category_name month  \n",
      "0     Кино - Blu-Ray    01  \n",
      "1     Кино - Blu-Ray    01  \n",
      "2     Кино - Blu-Ray    01  \n",
      "3     Кино - Blu-Ray    01  \n",
      "4     Кино - Blu-Ray    01  \n"
     ]
    }
   ],
   "source": [
    "df['item_cnt_day'] = abs(df['item_cnt_day'])\n",
    "df['item_price'] = abs(df['item_price'])\n",
    "\n",
    "df['month'] = df['date'].str[3:5]\n",
    "print(df.head())"
   ]
  },
  {
   "cell_type": "markdown",
   "id": "d4d858aa",
   "metadata": {},
   "source": [
    "# Making one row for each item of shop that was sold in every month"
   ]
  },
  {
   "cell_type": "code",
   "execution_count": 250,
   "id": "d9448443",
   "metadata": {},
   "outputs": [
    {
     "name": "stdout",
     "output_type": "stream",
     "text": [
      "   item_id  item_category_id  shop_id  date_block_num month  item_price  \\\n",
      "0        0                40       54              20    09        58.0   \n",
      "1        1                76       55              15    04      4490.0   \n",
      "2        1                76       55              18    07      4490.0   \n",
      "3        1                76       55              19    08      4490.0   \n",
      "4        1                76       55              20    09      4490.0   \n",
      "\n",
      "   total-sell  \n",
      "0         1.0  \n",
      "1         2.0  \n",
      "2         1.0  \n",
      "3         1.0  \n",
      "4         1.0  \n"
     ]
    }
   ],
   "source": [
    "df = df.groupby(['item_id', 'item_category_id', 'shop_id', 'date_block_num', 'month', 'item_price'])['item_cnt_day'].sum().reset_index(name='total-sell')\n",
    "print(df.head())\n",
    "\n",
    "# This Part Was Only Added For Test\n",
    "# a = df.groupby(['item_id', 'item_category_id', 'shop_id', 'date_block_num', 'month', 'item_price'])['item_cnt_day'].sum().reset_index(name='total-sell')\n",
    "# b = df.loc[df['item_id'] == 22145]\n",
    "# b = b.loc[b['shop_id'] == 25]\n",
    "# b = b.loc[b['date_block_num'] == 14]\n",
    "# print(len(b))\n",
    "# print(b)\n",
    "# print('%%%%%%%%%%%%%%%%%%%%%%%%%%%%%%%%%%%%%%%%%%%%%%%%%%%%%%%%%%')\n",
    "# b = a.loc[a['item_id'] == 22145]\n",
    "# b = b.loc[b['shop_id'] == 25]\n",
    "# b = b.loc[b['date_block_num'] == 14]\n",
    "# print(len(b))\n",
    "# print(b)"
   ]
  },
  {
   "cell_type": "markdown",
   "id": "c356bc5b",
   "metadata": {},
   "source": [
    "# One-Hot-Encode for month & shop"
   ]
  },
  {
   "cell_type": "code",
   "execution_count": 251,
   "id": "74ef2c62",
   "metadata": {},
   "outputs": [
    {
     "name": "stdout",
     "output_type": "stream",
     "text": [
      "   item_id  item_category_id  date_block_num  item_price  total-sell  \\\n",
      "0        0                40              20        58.0         1.0   \n",
      "1        1                76              15      4490.0         2.0   \n",
      "2        1                76              18      4490.0         1.0   \n",
      "3        1                76              19      4490.0         1.0   \n",
      "4        1                76              20      4490.0         1.0   \n",
      "\n",
      "   month_01  month_02  month_03  month_04  month_05  ...  shop_50  shop_51  \\\n",
      "0         0         0         0         0         0  ...        0        0   \n",
      "1         0         0         0         1         0  ...        0        0   \n",
      "2         0         0         0         0         0  ...        0        0   \n",
      "3         0         0         0         0         0  ...        0        0   \n",
      "4         0         0         0         0         0  ...        0        0   \n",
      "\n",
      "   shop_52  shop_53  shop_54  shop_55  shop_56  shop_57  shop_58  shop_59  \n",
      "0        0        0        1        0        0        0        0        0  \n",
      "1        0        0        0        1        0        0        0        0  \n",
      "2        0        0        0        1        0        0        0        0  \n",
      "3        0        0        0        1        0        0        0        0  \n",
      "4        0        0        0        1        0        0        0        0  \n",
      "\n",
      "[5 rows x 77 columns]\n"
     ]
    }
   ],
   "source": [
    "df = pd.get_dummies(df, prefix=['month', 'shop'], columns = ['month', 'shop_id'])\n",
    "print(df.head())"
   ]
  },
  {
   "cell_type": "code",
   "execution_count": 258,
   "id": "a3000a6c",
   "metadata": {},
   "outputs": [
    {
     "name": "stdout",
     "output_type": "stream",
     "text": [
      "Index(['item_id', 'item_category_id', 'date_block_num', 'item_price',\n",
      "       'total-sell', 'month_01', 'month_02', 'month_03', 'month_04',\n",
      "       'month_05', 'month_06', 'month_07', 'month_08', 'month_09', 'month_10',\n",
      "       'month_11', 'month_12', 'shop_0', 'shop_1', 'shop_2', 'shop_3',\n",
      "       'shop_4', 'shop_5', 'shop_6', 'shop_7', 'shop_8', 'shop_9', 'shop_10',\n",
      "       'shop_11', 'shop_12', 'shop_13', 'shop_14', 'shop_15', 'shop_16',\n",
      "       'shop_17', 'shop_18', 'shop_19', 'shop_20', 'shop_21', 'shop_22',\n",
      "       'shop_23', 'shop_24', 'shop_25', 'shop_26', 'shop_27', 'shop_28',\n",
      "       'shop_29', 'shop_30', 'shop_31', 'shop_32', 'shop_33', 'shop_34',\n",
      "       'shop_35', 'shop_36', 'shop_37', 'shop_38', 'shop_39', 'shop_40',\n",
      "       'shop_41', 'shop_42', 'shop_43', 'shop_44', 'shop_45', 'shop_46',\n",
      "       'shop_47', 'shop_48', 'shop_49', 'shop_50', 'shop_51', 'shop_52',\n",
      "       'shop_53', 'shop_54', 'shop_55', 'shop_56', 'shop_57', 'shop_58',\n",
      "       'shop_59'],\n",
      "      dtype='object')\n",
      "train_x:\n",
      " 1304266\n",
      "train_y:\n",
      " 1304266\n",
      "test_x:\n",
      " 434756\n",
      "test_y:\n",
      " 434756\n"
     ]
    }
   ],
   "source": [
    "print(df.columns)\n",
    "columns = ['item_id', 'item_category_id', 'item_price', 'date_block_num']\n",
    "[columns.append('month_0' + str(i)) if i < 10 else columns .append('month_' + str(i)) for i in range(1, 13)]\n",
    "[columns.append('shop_' + str(i)) for i in range(0, 60)]\n",
    "x = df.loc[:, columns]\n",
    "y = df.loc[:, 'total-sell']\n",
    "train_x, test_x, train_y, test_y = train_test_split(x, y, test_size = 0.25)\n",
    "print('train_x:\\n', len(train_x))\n",
    "print('train_y:\\n', len(train_y))\n",
    "print('test_x:\\n', len(test_x))\n",
    "print('test_y:\\n', len(test_y))"
   ]
  },
  {
   "cell_type": "markdown",
   "id": "afe3f743",
   "metadata": {},
   "source": [
    "# Linear regression"
   ]
  },
  {
   "cell_type": "code",
   "execution_count": 260,
   "id": "1718d321",
   "metadata": {},
   "outputs": [
    {
     "name": "stdout",
     "output_type": "stream",
     "text": [
      "0.005532392802051644\n",
      "Coefficients: \n",
      " [-2.64799580e-06 -2.89410845e-03  5.25125595e-05 -4.03084189e-03\n",
      " -5.11976329e-02 -1.43276168e-01 -5.00444789e-02 -1.07107102e-01\n",
      " -1.30997385e-01 -1.12413785e-01 -2.05550154e-01 -1.55033377e-01\n",
      "  1.73848930e-01  5.65729704e-02  2.95710742e-01  4.29487440e-01\n",
      "  3.16848046e-01 -1.37509711e-01 -3.24112619e-01 -5.20081094e-01\n",
      " -3.82058502e-01 -4.55179659e-01 -1.46533334e-01 -2.37878308e-01\n",
      " -7.12421461e-01  5.77235352e+00 -5.41535172e-01 -7.00916541e-01\n",
      "  1.05655788e+00 -4.49533420e-01 -2.32125674e-01 -1.01228420e-01\n",
      " -2.83153689e-01 -5.55657867e-01 -1.62574707e-01 -2.49588175e-01\n",
      "  4.31900364e+00 -3.88388855e-01  8.55934481e-02 -4.43796277e-01\n",
      " -9.58260666e-02  4.06615646e-01 -1.90422166e-01  3.80263762e-01\n",
      "  5.35330667e-01 -1.42220344e-01 -3.06458363e-01  7.46947168e-01\n",
      " -5.50702516e-01 -7.38272747e-01 -6.81383573e-01 -3.77271327e-01\n",
      " -8.23492969e-01 -4.36038381e-01 -2.68611951e-01 -4.57881047e-01\n",
      " -3.17352848e-02 -3.22626028e-01  1.71058226e-01 -5.98230839e-02\n",
      " -5.02531888e-01 -4.19427190e-01 -1.28551377e-01 -1.70553784e-01\n",
      " -3.72734096e-01 -6.74851763e-01 -1.71803988e-01 -5.26111023e-01\n",
      " -4.21648821e-01 -2.40985866e-01  3.51067702e-01  2.77207187e+00\n",
      " -4.03750123e-01  8.50766930e-02 -1.23414543e-01 -3.35384477e-01]\n",
      "Mean squared error: 50.67\n",
      "Coefficient of determination: 0.00\n"
     ]
    },
    {
     "name": "stderr",
     "output_type": "stream",
     "text": [
      "C:\\Users\\parsa\\AppData\\Local\\Temp\\ipykernel_7888\\3154439731.py:17: FutureWarning: The behavior of `series[i:j]` with an integer-dtype index is deprecated. In a future version, this will be treated as *label-based* indexing, consistent with e.g. `series[i]` lookups. To retain the old behavior, use `series.iloc[i:j]`. To get the future behavior, use `series.loc[i:j]`.\n",
      "  plt.plot([i for i in range(len(y_predict[:100]))], test_y[:100], color='blue')\n"
     ]
    },
    {
     "data": {
      "image/png": "[encoded data removed]",
      "text/plain": [
       "<Figure size 432x288 with 1 Axes>"
      ]
     },
     "metadata": {
      "needs_background": "light"
     },
     "output_type": "display_data"
    }
   ],
   "source": [
    "regr = LinearRegression()\n",
    "\n",
    "regr.fit(train_x, train_y)\n",
    "print(regr.score(test_x, test_y))\n",
    "\n",
    "y_predict = regr.predict(test_x)\n",
    "y_predict = np.around(y_predict).astype(int)\n",
    "\n",
    "# The coefficients\n",
    "print(\"Coefficients: \\n\", regr.coef_)\n",
    "# The mean squared error\n",
    "print(\"Mean squared error: %.2f\" % mean_squared_error(test_y, y_predict))\n",
    "# The coefficient of determination: 1 is perfect prediction\n",
    "print(\"Coefficient of determination: %.2f\" % r2_score(test_y, y_predict))\n",
    "\n",
    "plt.plot([i for i in range(len(y_predict[:100]))], y_predict[:100], color='red')\n",
    "plt.plot([i for i in range(len(y_predict[:100]))], test_y[:100], color='blue')\n",
    "plt.show()"
   ]
  }
 ],
 "metadata": {
  "kernelspec": {
   "display_name": "Python 3 (ipykernel)",
   "language": "python",
   "name": "python3"
  },
  "language_info": {
   "codemirror_mode": {
    "name": "ipython",
    "version": 3
   },
   "file_extension": ".py",
   "mimetype": "text/x-python",
   "name": "python",
   "nbconvert_exporter": "python",
   "pygments_lexer": "ipython3",
   "version": "3.10.2"
  }
 },
 "nbformat": 4,
 "nbformat_minor": 5
}
